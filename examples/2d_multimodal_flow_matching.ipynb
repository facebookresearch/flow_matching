{
 "cells": [
  {
   "cell_type": "markdown",
   "id": "381ea8d5",
   "metadata": {},
   "source": [
    "# A simple 2D Multimodal Flow Matching model"
   ]
  },
  {
   "cell_type": "markdown",
   "id": "0c0a75af",
   "metadata": {},
   "source": [
    "This notebook trains and evaluates a multimodal FM model that jointly handles\n",
    "a discrete modality (categorical data) and a continuous modality (real‑valued 2‑D data).\n",
    "\n",
    "Dataset: 2D discrete/continuous checkerboard\n",
    "Model (probability denoiser/velocity): MLPs for each modality and a shared Transformer trunk"
   ]
  },
  {
   "cell_type": "markdown",
   "id": "b5c941fc",
   "metadata": {},
   "source": [
    "## Imports and init device"
   ]
  },
  {
   "cell_type": "code",
   "execution_count": 1,
   "id": "e7758331",
   "metadata": {},
   "outputs": [],
   "source": [
    "import time\n",
    "\n",
    "from typing import Any, Dict, List, Sequence\n",
    "\n",
    "# visualization\n",
    "import matplotlib.pyplot as plt\n",
    "import torch\n",
    "from flow_matching.path import AffineProbPath, MixtureDiscreteProbPath\n",
    "from flow_matching.path.scheduler import (\n",
    "    CondOTScheduler,  # continuous scheduler (training)\n",
    "    PolynomialConvexScheduler,  # discrete scheduler (training)\n",
    ")\n",
    "\n",
    "# flow_matching\n",
    "from flow_matching.utils.multimodal import Flow\n",
    "from torch import nn, Tensor\n",
    "\n",
    "# To avoid meshgrid warning\n",
    "import warnings\n",
    "\n",
    "warnings.filterwarnings(\"ignore\", category=UserWarning, module=\"torch\")"
   ]
  },
  {
   "cell_type": "code",
   "execution_count": 2,
   "id": "10957ca3",
   "metadata": {},
   "outputs": [
    {
     "name": "stdout",
     "output_type": "stream",
     "text": [
      "Using MPS\n"
     ]
    }
   ],
   "source": [
    "if torch.cuda.is_available():\n",
    "    device = \"cuda:0\"\n",
    "    print(\"Using GPU\")\n",
    "elif torch.backends.mps.is_available():\n",
    "    device = \"mps\"\n",
    "    print(\"Using MPS\")\n",
    "else:\n",
    "    device = \"cpu\"\n",
    "    print(\"Using CPU\")"
   ]
  },
  {
   "cell_type": "code",
   "execution_count": 3,
   "id": "0491f488",
   "metadata": {},
   "outputs": [
    {
     "data": {
      "text/plain": [
       "<torch._C.Generator at 0x11f7a5950>"
      ]
     },
     "execution_count": 3,
     "metadata": {},
     "output_type": "execute_result"
    }
   ],
   "source": [
    "torch.manual_seed(42)"
   ]
  },
  {
   "cell_type": "markdown",
   "id": "b2ff4e5f",
   "metadata": {},
   "source": [
    "## Shared model"
   ]
  },
  {
   "cell_type": "code",
   "execution_count": 4,
   "id": "1321dec5",
   "metadata": {},
   "outputs": [],
   "source": [
    "class SharedTransformer(nn.Module):\n",
    "    \"\"\"\n",
    "    Shared Transformer trunk used by both modalities.\n",
    "\n",
    "    Args:\n",
    "        hidden_dim (int): The hidden dimension of the model.\n",
    "        nhead (int): The number of attention heads.\n",
    "        num_layers (int): The number of TransformerEncoder layers.\n",
    "    \"\"\"\n",
    "\n",
    "    def __init__(self, hidden_dim: int = 128, nhead: int = 4, num_layers: int = 2):\n",
    "        super().__init__()\n",
    "        encoder_layer = nn.TransformerEncoderLayer(d_model=hidden_dim, nhead=nhead)\n",
    "        self.transformer = nn.TransformerEncoder(encoder_layer, num_layers=num_layers)\n",
    "\n",
    "    def forward(self, x: Tensor) -> Tensor:\n",
    "        \"\"\"\n",
    "        Forward pass through the shared Transformer.\n",
    "\n",
    "        Args:\n",
    "            x (Tensor): Input tensor of shape (sequence_length, batch_size, hidden_dim).\n",
    "\n",
    "        Returns:\n",
    "            Tensor: Output tensor of the same shape as input.\n",
    "        \"\"\"\n",
    "        return self.transformer(x)"
   ]
  },
  {
   "cell_type": "markdown",
   "id": "af22ef56",
   "metadata": {},
   "source": [
    "## Datasets"
   ]
  },
  {
   "cell_type": "code",
   "execution_count": 5,
   "id": "b2466329",
   "metadata": {},
   "outputs": [],
   "source": [
    "def inf_train_gen_discrete(\n",
    "    n_grid_points: int = 128,\n",
    "    batch_size: int = 200,\n",
    "    device: str = \"cpu\",\n",
    ") -> Tensor:\n",
    "    \"\"\"\n",
    "    Generate a batch of discrete (categorical) samples.\n",
    "    Returns a tensor of shape (batch, 2) with integer token IDs.\n",
    "\n",
    "    Args:\n",
    "        n_grid_points (int): Number of grid points along one axis (should be divisible by 4).\n",
    "        batch_size (int): Number of samples to generate.\n",
    "        device (str): Device to place the tensor on.\n",
    "\n",
    "    Returns:\n",
    "        Tensor: A tensor of shape (batch_size, 2) with integer token IDs.\n",
    "    \"\"\"\n",
    "    assert n_grid_points % 4 == 0, \"grid size must be divisible by 4\"\n",
    "    n_grid_points //= 4\n",
    "\n",
    "    x1 = torch.randint(low=0, high=n_grid_points * 4, size=(batch_size,), device=device)\n",
    "    samples_x2 = torch.randint(\n",
    "        low=0, high=n_grid_points, size=(batch_size,), device=device\n",
    "    )\n",
    "\n",
    "    x2 = (\n",
    "        samples_x2\n",
    "        + 2 * n_grid_points\n",
    "        - torch.randint(low=0, high=2, size=(batch_size,), device=device)\n",
    "        * 2\n",
    "        * n_grid_points\n",
    "        + (torch.floor(x1 / n_grid_points) % 2) * n_grid_points\n",
    "    )\n",
    "    return torch.stack([x1, x2], dim=1).long()\n",
    "\n",
    "\n",
    "def inf_train_gen_continuous(batch_size: int = 200, device: str = \"cpu\") -> Tensor:\n",
    "    \"\"\"\n",
    "    Generate a batch of 2-D continuous points from a checkerboard-like distribution.\n",
    "    Returns a tensor of shape (batch, 2).\n",
    "\n",
    "    Args:\n",
    "        batch_size (int): Number of samples to generate.\n",
    "        device (str): Device to place the tensor on.\n",
    "\n",
    "    Returns:\n",
    "        Tensor: A tensor of shape (batch_size, 2) with continuous values.\n",
    "    \"\"\"\n",
    "    x1 = torch.rand(batch_size, device=device) * 4 - 2\n",
    "    x2_ = (\n",
    "        torch.rand(batch_size, device=device)\n",
    "        - torch.randint(high=2, size=(batch_size,), device=device) * 2\n",
    "    )\n",
    "    x2 = x2_ + (torch.floor(x1) % 2)\n",
    "    data = torch.stack([x1, x2], dim=1) / 0.45\n",
    "    return data.float()"
   ]
  },
  {
   "cell_type": "markdown",
   "id": "e1faf8fd",
   "metadata": {},
   "source": [
    "## Unified multimodal model"
   ]
  },
  {
   "cell_type": "code",
   "execution_count": 6,
   "id": "a3517fbc",
   "metadata": {},
   "outputs": [],
   "source": [
    "class Swish(nn.Module):\n",
    "    \"\"\"Swish activation (x * sigmoid(x)).\"\"\"\n",
    "\n",
    "    def forward(self, x: Tensor) -> Tensor:\n",
    "        \"\"\"Forward pass through the Swish activation.\"\"\"\n",
    "        return torch.sigmoid(x) * x\n",
    "\n",
    "\n",
    "class TransformerModel(nn.Module):\n",
    "    \"\"\"\n",
    "    A unified Transformer-based model for handling multiple modalities.\n",
    "\n",
    "    This model processes a sequence of modalities, each with its own input\n",
    "    and output heads, while sharing a central Transformer trunk. It is designed\n",
    "    to be flexible for both discrete (categorical) and continuous data types.\n",
    "\n",
    "    Args:\n",
    "        shared_transformer (SharedTransformer): The shared TransformerEncoder module.\n",
    "        modality_configs (List[Dict[str, Any]]): A list of dictionaries, each configuring a modality.\n",
    "            Required keys per config:\n",
    "                - 'type': 'discrete' or 'continuous'.\n",
    "                - 'length': The sequence length for this modality's tokens.\n",
    "                If 'type' is 'discrete':\n",
    "                - 'vocab_size': The size of the vocabulary.\n",
    "                If 'type' is 'continuous':\n",
    "                - 'input_dim': The feature dimension of the continuous data.\n",
    "        time_dim (int): The dimension of the time embedding.\n",
    "        hidden_dim (int): The hidden dimension of the model and transformer.\n",
    "\n",
    "    Raises:\n",
    "        ValueError: If an unknown modality type is provided.\n",
    "    \"\"\"\n",
    "\n",
    "    def __init__(\n",
    "        self,\n",
    "        shared_transformer: SharedTransformer,\n",
    "        modality_configs: List[Dict[str, Any]],\n",
    "        time_dim: int = 1,\n",
    "        hidden_dim: int = 128,\n",
    "    ):\n",
    "        super().__init__()\n",
    "        self.shared = shared_transformer\n",
    "        self.modality_configs = modality_configs\n",
    "        self.seq_lengths = [config[\"length\"] for config in modality_configs]\n",
    "\n",
    "        self.input_embedders = nn.ModuleList()\n",
    "        self.time_embedders = nn.ModuleList()\n",
    "        self.input_projectors = nn.ModuleList()\n",
    "        self.output_heads = nn.ModuleList()\n",
    "        self.activations = nn.ModuleList()\n",
    "\n",
    "        for config in self.modality_configs:\n",
    "            self.time_embedders.append(nn.Linear(1, time_dim))\n",
    "            self.input_projectors.append(nn.Linear(hidden_dim + time_dim, hidden_dim))\n",
    "            self.activations.append(Swish())\n",
    "\n",
    "            if config[\"type\"] == \"discrete\":\n",
    "                self.input_embedders.append(\n",
    "                    nn.Embedding(config[\"vocab_size\"], hidden_dim)\n",
    "                )\n",
    "                self.output_heads.append(nn.Linear(hidden_dim, config[\"vocab_size\"]))\n",
    "            elif config[\"type\"] == \"continuous\":\n",
    "                self.input_embedders.append(nn.Linear(config[\"input_dim\"], hidden_dim))\n",
    "                self.output_heads.append(nn.Linear(hidden_dim, config[\"input_dim\"]))\n",
    "            else:\n",
    "                raise ValueError(f\"Unknown modality type: {config['type']}\")\n",
    "\n",
    "    def forward(\n",
    "        self, x_modalities: Sequence[Tensor], t_modalities: Sequence[Tensor]\n",
    "    ) -> Sequence[Tensor]:\n",
    "        \"\"\"\n",
    "        Forward pass for multiple modalities.\n",
    "\n",
    "        Args:\n",
    "            x_modalities (Sequence[Tensor]): A sequence of input tensors, one for each modality.\n",
    "                          Shape for discrete: (batch, length)\n",
    "                          Shape for continuous: (batch, input_dim)\n",
    "            t_modalities (Sequence[Tensor]): A sequence of time tensors, one for each modality.\n",
    "                          Shape for all: (batch, 1)\n",
    "\n",
    "        Returns:\n",
    "            Sequence[Tensor]: A sequence of output tensors, one for each modality.\n",
    "        \"\"\"\n",
    "        embeddings = []\n",
    "\n",
    "        # 1. Process each modality through its specific input head\n",
    "        for i, (x, t, config) in enumerate(\n",
    "            zip(x_modalities, t_modalities, self.modality_configs)\n",
    "        ):\n",
    "            # Embed time and expand to match sequence length\n",
    "            t_emb = self.time_embedders[i](t.unsqueeze(-1))\n",
    "            t_emb = t_emb.unsqueeze(1).expand(-1, config[\"length\"], -1)\n",
    "\n",
    "            # Embed input based on modality type\n",
    "            if config[\"type\"] == \"discrete\":\n",
    "                x_emb = self.input_embedders[i](x)  # (B, length, hidden_dim)\n",
    "            else:  # continuous\n",
    "                x_emb = self.input_embedders[i](x)  # (B, hidden_dim)\n",
    "                x_emb = x_emb.unsqueeze(1)  # (B, 1, hidden_dim)\n",
    "\n",
    "            # Combine, project, and activate\n",
    "            combined = torch.cat([x_emb, t_emb], dim=-1)\n",
    "            h = self.input_projectors[i](combined)\n",
    "            h = self.activations[i](h)\n",
    "\n",
    "            # Prepare for transformer (seq_len, batch, hidden_dim)\n",
    "            embeddings.append(h.permute(1, 0, 2))\n",
    "\n",
    "        # 2. Concatenate all modality embeddings and pass through shared transformer\n",
    "        full_sequence = torch.cat(embeddings, dim=0)\n",
    "        transformer_out = self.shared(full_sequence)\n",
    "\n",
    "        # 3. Split the output and process through specific output heads\n",
    "        output_chunks = torch.split(transformer_out, self.seq_lengths, dim=0)\n",
    "        results = []\n",
    "        for i, chunk in enumerate(output_chunks):\n",
    "            # (length, B, hidden_dim) -> (B, length, hidden_dim)\n",
    "            chunk = chunk.permute(1, 0, 2)\n",
    "            output = self.output_heads[i](chunk)\n",
    "\n",
    "            # Squeeze sequence dimension if it's 1 (for continuous case)\n",
    "            if output.size(1) == 1:\n",
    "                output = output.squeeze(1)\n",
    "            results.append(output)\n",
    "\n",
    "        return results"
   ]
  },
  {
   "cell_type": "markdown",
   "id": "d5378557",
   "metadata": {},
   "source": [
    "## Instantiate modalities and model"
   ]
  },
  {
   "cell_type": "code",
   "execution_count": 7,
   "id": "9b0e8daa",
   "metadata": {},
   "outputs": [],
   "source": [
    "# ---- General Hyperparameters -----------------------------------------\n",
    "length = 2  # 2 tokens per sample\n",
    "vocab_size = 128\n",
    "added_token = 0  # uniform source distribution → no extra token\n",
    "vocab_size += added_token\n",
    "hidden_dim = 128\n",
    "\n",
    "# ---- Shared transformer trunk ----------------------------------------\n",
    "shared_transformer = SharedTransformer(hidden_dim=hidden_dim, nhead=4, num_layers=2).to(\n",
    "    device\n",
    ")\n",
    "\n",
    "# ---- Model and Path Configuration ------------------------------------\n",
    "modality_configs = [\n",
    "    {\n",
    "        \"type\": \"discrete\",\n",
    "        \"vocab_size\": vocab_size,\n",
    "        \"length\": length,\n",
    "    },\n",
    "    {\n",
    "        \"type\": \"continuous\",\n",
    "        \"input_dim\": length,\n",
    "        \"length\": 1,  # This modality is treated as a single token in the sequence\n",
    "    },\n",
    "]\n",
    "\n",
    "# A unified model that handles all modalities\n",
    "model = TransformerModel(\n",
    "    shared_transformer=shared_transformer,\n",
    "    modality_configs=modality_configs,\n",
    "    time_dim=1,\n",
    "    hidden_dim=hidden_dim,\n",
    ").to(device)\n",
    "\n",
    "# Path definitions remain distinct per modality\n",
    "discrete_path = MixtureDiscreteProbPath(scheduler=PolynomialConvexScheduler(n=2.0))\n",
    "continuous_path = AffineProbPath(scheduler=CondOTScheduler())\n",
    "\n",
    "# ---- Assemble modalities dict for Flow -------------------------------\n",
    "modalities = {\n",
    "    \"discrete\": {\n",
    "        \"path\": discrete_path,\n",
    "        # loss omitted → Flow will use MixturePathGeneralizedKL automatically\n",
    "    },\n",
    "    \"continuous\": {\n",
    "        \"path\": continuous_path,\n",
    "        # loss omitted → Flow will use MSE loss automatically\n",
    "    },\n",
    "}"
   ]
  },
  {
   "cell_type": "markdown",
   "id": "b82a25cc",
   "metadata": {},
   "source": [
    "## Instantiate the multimodal Flow model"
   ]
  },
  {
   "cell_type": "code",
   "execution_count": 8,
   "id": "9f2ccedd",
   "metadata": {},
   "outputs": [],
   "source": [
    "flow = Flow(model=model, modalities=modalities)\n",
    "\n",
    "# Optimizer (optimises both modality models)\n",
    "optimizer = torch.optim.Adam(flow.parameters(), lr=1e-3)"
   ]
  },
  {
   "cell_type": "markdown",
   "id": "2636f3a4",
   "metadata": {},
   "source": [
    "## Training loop"
   ]
  },
  {
   "cell_type": "code",
   "execution_count": 9,
   "id": "646de9a8",
   "metadata": {},
   "outputs": [
    {
     "name": "stdout",
     "output_type": "stream",
     "text": [
      "| iter   3000 | 14.35 ms/step | loss    9.040 \n",
      "| iter   6000 | 16.78 ms/step | loss    9.292 \n",
      "| iter   9000 | 18.14 ms/step | loss    9.037 \n",
      "| iter  12000 | 18.66 ms/step | loss    9.878 \n",
      "| iter  15000 | 18.56 ms/step | loss    9.466 \n",
      "| iter  18000 | 18.55 ms/step | loss    9.251 \n",
      "| iter  21000 | 18.27 ms/step | loss    9.220 \n",
      "| iter  24000 | 18.40 ms/step | loss    9.489 \n",
      "| iter  27000 | 18.48 ms/step | loss    9.835 \n",
      "| iter  30000 | 18.33 ms/step | loss    9.114 \n"
     ]
    }
   ],
   "source": [
    "lr = 1e-3\n",
    "batch_size = 2048\n",
    "iterations = 30001\n",
    "print_every = 3000\n",
    "epsilon = 1e-3\n",
    "\n",
    "source_distribution = \"uniform\"  # for the discrete modality\n",
    "\n",
    "start_time = time.time()\n",
    "for i in range(iterations):\n",
    "    optimizer.zero_grad()\n",
    "\n",
    "    # ---- Discrete data -------------------------------------------------\n",
    "    x1_disc = inf_train_gen_discrete(\n",
    "        n_grid_points=vocab_size - added_token,\n",
    "        batch_size=batch_size,\n",
    "        device=device,\n",
    "    )\n",
    "    if source_distribution == \"uniform\":\n",
    "        x0_disc = torch.randint_like(x1_disc, high=vocab_size)\n",
    "    else:  # mask case (not used here)\n",
    "        raise NotImplementedError\n",
    "\n",
    "    # ---- Continuous data -----------------------------------------------\n",
    "    x1_cont = inf_train_gen_continuous(batch_size=batch_size, device=device)\n",
    "    x0_cont = torch.randn_like(x1_cont)  # isotropic Gaussian prior\n",
    "\n",
    "    # ---- Sample a common time tensor for both modalities ---------------\n",
    "    t = torch.rand(batch_size, device=device) * (1 - epsilon)\n",
    "\n",
    "    # ---- Sample from each path to obtain x_t ---------------------------\n",
    "    disc_path_sample = discrete_path.sample(t=t, x_0=x0_disc, x_1=x1_disc)\n",
    "    cont_path_sample = continuous_path.sample(t=t, x_0=x0_cont, x_1=x1_cont)\n",
    "\n",
    "    # ---- Build the inputs expected by Flow.training_loss -----------\n",
    "    x_1 = [x1_disc, x1_cont]\n",
    "    x_t = [disc_path_sample.x_t, cont_path_sample.x_t]\n",
    "    dx_t = [None, cont_path_sample.dx_t]  # NOTE: dx_t is None for discrete\n",
    "    ts = [t] * 2  # NOTE: For now, both modalities share the same time\n",
    "\n",
    "    # ---- Compute total loss and back‑propagate -------------------------\n",
    "    loss, _ = flow.training_loss(x_1=x_1, x_t=x_t, dx_t=dx_t, t=ts)\n",
    "    loss.backward()\n",
    "    optimizer.step()\n",
    "\n",
    "    # ---- Logging -------------------------------------------------------\n",
    "    if (i + 1) % print_every == 0:\n",
    "        elapsed = time.time() - start_time\n",
    "        print(\n",
    "            f\"| iter {i+1:6d} | {elapsed*1000/print_every:5.2f} ms/step | loss {loss.item():8.3f} \"\n",
    "        )\n",
    "        start_time = time.time()"
   ]
  },
  {
   "cell_type": "markdown",
   "id": "e87e944d",
   "metadata": {},
   "source": [
    "## Sampling from the trained multimodal model"
   ]
  },
  {
   "cell_type": "code",
   "execution_count": 10,
   "id": "e2aab2d8",
   "metadata": {},
   "outputs": [],
   "source": [
    "x_init = [\n",
    "    torch.randint_like(\n",
    "        x1_disc, high=vocab_size\n",
    "    ),  # discrete initial state (uniform categorical)\n",
    "    torch.randn_like(x1_cont),  # continuous initial state (Gaussian noise)\n",
    "]\n",
    "\n",
    "flow.eval()  # switch to eval mode for sampling\n",
    "samples = flow.sample(x_init=x_init, device=device, steps=1000)"
   ]
  },
  {
   "cell_type": "markdown",
   "id": "2bceb4bb",
   "metadata": {},
   "source": [
    "## Visualization"
   ]
  },
  {
   "cell_type": "code",
   "execution_count": 11,
   "id": "43dc2909",
   "metadata": {},
   "outputs": [
    {
     "data": {
      "image/png": "[encoded data removed]",
      "text/plain": [
       "<Figure size 600x500 with 2 Axes>"
      ]
     },
     "metadata": {},
     "output_type": "display_data"
    },
    {
     "data": {
      "image/png": "[encoded data removed]",
      "text/plain": [
       "<Figure size 600x500 with 2 Axes>"
      ]
     },
     "metadata": {},
     "output_type": "display_data"
    }
   ],
   "source": [
    "# ---- Discrete modality -------------------------------------------------\n",
    "discrete_samples = samples[0].cpu().numpy()  # shape (N, 2) integer tokens\n",
    "vocab = vocab_size\n",
    "\n",
    "# Plot a 2‑D histogram of the discrete samples\n",
    "plt.figure(figsize=(6, 5))\n",
    "plt.hist2d(\n",
    "    discrete_samples[:, 0],\n",
    "    discrete_samples[:, 1],\n",
    "    bins=vocab,\n",
    "    cmap=\"viridis\",\n",
    ")\n",
    "plt.title(\"Discrete modality samples (token histogram)\")\n",
    "plt.xlabel(\"Token 1\")\n",
    "plt.ylabel(\"Token 2\")\n",
    "plt.colorbar(label=\"Count\")\n",
    "plt.tight_layout()\n",
    "plt.show()\n",
    "\n",
    "# ---- Continuous modality -----------------------------------------------\n",
    "continuous_samples = samples[1].cpu().numpy()  # shape (N, 2)\n",
    "\n",
    "# Plot a 2‑D histogram of the continuous samples\n",
    "plt.figure(figsize=(6, 5))\n",
    "plt.hist2d(\n",
    "    continuous_samples[:, 0],\n",
    "    continuous_samples[:, 1],\n",
    "    bins=200,\n",
    "    cmap=\"viridis\",\n",
    ")\n",
    "plt.title(\"Continuous modality samples (2-D density)\")\n",
    "plt.xlabel(\"x₁\")\n",
    "plt.ylabel(\"x₂\")\n",
    "plt.colorbar(label=\"Count\")\n",
    "plt.tight_layout()\n",
    "plt.show()"
   ]
  }
 ],
 "metadata": {
  "jupytext": {
   "cell_metadata_filter": "-all",
   "main_language": "python",
   "notebook_metadata_filter": "-all"
  },
  "kernelspec": {
   "display_name": "flow_matching",
   "language": "python",
   "name": "python3"
  },
  "language_info": {
   "codemirror_mode": {
    "name": "ipython",
    "version": 3
   },
   "file_extension": ".py",
   "mimetype": "text/x-python",
   "name": "python",
   "nbconvert_exporter": "python",
   "pygments_lexer": "ipython3",
   "version": "3.10.18"
  }
 },
 "nbformat": 4,
 "nbformat_minor": 5
}
